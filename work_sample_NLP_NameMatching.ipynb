{
 "cells": [
  {
   "cell_type": "code",
   "execution_count": null,
   "metadata": {},
   "outputs": [],
   "source": [
    "###GSA Inventory tackle\n",
    "import pandas as pd\n",
    "import numpy as np\n",
    "import seaborn as sns\n",
    "import matplotlib.pyplot as plt\n",
    "import sklearn\n",
    "import seaborn as sns\n"
   ]
  },
  {
   "cell_type": "code",
   "execution_count": null,
   "metadata": {},
   "outputs": [],
   "source": [
    "solution_finder_data = pd.read_csv(\"C:/Users/dkim/Downloads/solution_finder_data_grouped.csv\")\n",
    "print(solution_finder_data.shape)\n",
    "solution_finder_data = solution_finder_data.rename(columns={'  \"Title\"': 'Solution Name',\n",
    "                                                            'CAS Agency': 'Managing Agency'})"
   ]
  },
  {
   "cell_type": "code",
   "execution_count": null,
   "metadata": {},
   "outputs": [],
   "source": [
    "contract_inventory_testing = pd.read_csv(\"C:/Users/dkim/Downloads/contract_inventory_data_grouped.csv\")"
   ]
  },
  {
   "cell_type": "code",
   "execution_count": null,
   "metadata": {},
   "outputs": [],
   "source": [
    "####Fixing the Managing Agency name\n",
    "replace_dict = {'name1': 'DOD', 'name2': 'DOJ'}\n",
    "\n",
    "solution_finder_data['Managing Agency'] = solution_finder_data['Managing Agency'].replace(replace_dict)"
   ]
  },
  {
   "cell_type": "code",
   "execution_count": null,
   "metadata": {},
   "outputs": [],
   "source": [
    "solution_finder_data['Managing Agency'].unique()"
   ]
  },
  {
   "cell_type": "code",
   "execution_count": null,
   "metadata": {},
   "outputs": [],
   "source": [
    "contract_inventory_testing['Managing Agency'].unique()"
   ]
  },
  {
   "cell_type": "code",
   "execution_count": null,
   "metadata": {},
   "outputs": [],
   "source": [
    "##For contract inventory managing agency lets create a second one column where the managing agency is mixed together by the bigger agency\n",
    "contract_inventory_testing['Managing Agency modified'] = contract_inventory_testing['Managing Agency']\n",
    "\n",
    "replace_dict = {'1': 'DOD', '2':'DOD', '3':'DOD','4':'DOD','5':'DOD','6':'DOD', '7': 'DHHS','8':'DHHS','9':'DOD','10':'DVA'}\n",
    "contract_inventory_testing['Managing Agency modified'] = contract_inventory_testing['Managing Agency modified'].replace(replace_dict)"
   ]
  },
  {
   "cell_type": "code",
   "execution_count": null,
   "metadata": {},
   "outputs": [],
   "source": [
    "from thefuzz import fuzz\n",
    "def fuzzy_match(row): #result: Its better when we modified the managing agency before hand, however we need to look over the gsa contract\n",
    "#    data_sub = solution_finder_data_GSA[solution_finder_data_GSA['Managing Agency'] == row['Managing Agency modified']]\n",
    "\n",
    "    \n",
    "    token_set_ratio = (solution_finder_data_GSA['Solution Name']\n",
    "                       .apply(lambda y: fuzz.token_set_ratio(row['Solution Name'], y)) )\n",
    "    \n",
    "    # Create a boolean list in which the highest score is selected\n",
    "    max_row         = (token_set_ratio == token_set_ratio.max())\n",
    "    \n",
    "    # Return the highest score and the highest solution name\n",
    "    #return token_set_ratio[max_row].iloc[0], solution_finder_data.loc[max_row, 'Solution Name'].iloc[0] #original\n",
    "    return token_set_ratio[max_row].iloc[0], solution_finder_data_GSA.loc[max_row, 'Solution Name'].iloc[0], solution_finder_data_GSA.loc[max_row, 'Managing Agency'].iloc[0]\n",
    "\n",
    "# Return the highest score and highest solution name as a list\n",
    "x = contract_inventory_testing.apply(fuzzy_match, 1)\n",
    "\n",
    "# Map the first item in the list to a new column \"Similarity Score\"\n",
    "contract_inventory_testing['Similarity Score'] = [v[0] for v in x]\n",
    "\n",
    "# Map the second item in the list to a new column \"Solution Map\"\n",
    "contract_inventory_testing['Solution Map']     = [v[1] for v in x]\n",
    "\n",
    "# Map the third item in the list to a new column \"Solution agency\"\n",
    "contract_inventory_testing['Solution Agency']     = [v[2] for v in x] #extra line, unknown "
   ]
  },
  {
   "cell_type": "code",
   "execution_count": null,
   "metadata": {},
   "outputs": [],
   "source": [
    "managing_agency_counts = solution_finder_data['Managing Agency'].value_counts(normalize=True) * 100\n",
    "\n",
    "# The result is a Series with the Managing Agency categories as the index and the percentages as the values\n",
    "print(managing_agency_counts)\n"
   ]
  },
  {
   "cell_type": "code",
   "execution_count": null,
   "metadata": {},
   "outputs": [],
   "source": [
    "###Summary stats for the metdadata (08/09/2023)\n",
    "summary_stats = pd.read_csv(\"C:/Users/dkim/Downloads/20230803 Solutions Metadata.csv\")\n",
    "summary_stats"
   ]
  },
  {
   "cell_type": "code",
   "execution_count": null,
   "metadata": {},
   "outputs": [],
   "source": [
    "summary_stats.columns\n",
    "summary_stats_only_matched = summary_stats[(summary_stats['Found in CI'] == 1) & (summary_stats['Found in SF'] == 1)]\n",
    "summary_stats_only_matched"
   ]
  },
  {
   "cell_type": "code",
   "execution_count": null,
   "metadata": {},
   "outputs": [],
   "source": [
    "number_of_unique_values = summary_stats_only_matched['Contract Inventory Name'].nunique()\n",
    "\n",
    "print(number_of_unique_values) #239 unique contract name or 5% of contract inventory data\n"
   ]
  },
  {
   "cell_type": "code",
   "execution_count": null,
   "metadata": {},
   "outputs": [],
   "source": [
    "# Dropping duplicate rows based on the \"Contract Inventory Name\" column #This will find the number of unique contracts in contract inventory name \n",
    "unique_contracts_df = summary_stats_only_matched.drop_duplicates(subset=['Contract Inventory Name','Managing Agency (Contract inventory)'])\n",
    "\n",
    "# Calculating the percentage distribution for the \"Managing Agency (Contract inventory)\" column\n",
    "managing_agency_counts = unique_contracts_df['Managing Agency (Contract inventory)'].value_counts(normalize=True) * 100\n",
    "\n",
    "# Printing the results\n",
    "print(managing_agency_counts)\n",
    "\n",
    "managing_agency_counts = unique_contracts_df['Managing Agency (Contract inventory)'].value_counts() \n",
    "print(managing_agency_counts)\n",
    "\n",
    "import matplotlib.pyplot as plt\n",
    "\n",
    "# Assuming managing_agency_counts is already created as shown in your code\n",
    "managing_agency_counts = unique_contracts_df['Managing Agency (Contract inventory)'].value_counts(normalize=True) * 100\n",
    "\n",
    "# Identify categories with less than 4% and combine them into \"Other\"\n",
    "other_percentage = managing_agency_counts[managing_agency_counts < 4].sum()\n",
    "managing_agency_counts = managing_agency_counts[managing_agency_counts >= 4]\n",
    "managing_agency_counts['Other'] = other_percentage\n",
    "\n",
    "# Creating a pie chart\n",
    "plt.figure(figsize=(9, 10))\n",
    "plt.pie(managing_agency_counts, labels=managing_agency_counts.index, autopct='%1.1f%%', startangle=140)\n",
    "plt.axis('equal')  # Equal aspect ratio ensures the pie chart is circular\n",
    "plt.title('Solution Finders Managing Agency Categories')\n",
    "plt.show()"
   ]
  }
 ],
 "metadata": {
  "language_info": {
   "name": "python"
  }
 },
 "nbformat": 4,
 "nbformat_minor": 2
}
